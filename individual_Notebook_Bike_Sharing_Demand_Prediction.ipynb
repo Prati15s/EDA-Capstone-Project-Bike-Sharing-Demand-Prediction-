{
  "nbformat": 4,
  "nbformat_minor": 0,
  "metadata": {
    "colab": {
      "provenance": [],
      "authorship_tag": "ABX9TyMz3zX1q+vQebKcmpkxs78g",
      "include_colab_link": true
    },
    "kernelspec": {
      "name": "python3",
      "display_name": "Python 3"
    },
    "language_info": {
      "name": "python"
    },
    "gpuClass": "standard",
    "accelerator": "GPU"
  },
  "cells": [
    {
      "cell_type": "markdown",
      "metadata": {
        "id": "view-in-github",
        "colab_type": "text"
      },
      "source": [
        "<a href=\"https://colab.research.google.com/github/Prati15s/EDA-Capstone-Project-Bike-Sharing-Demand-Prediction-/blob/main/individual_Notebook_Bike_Sharing_Demand_Prediction.ipynb\" target=\"_parent\"><img src=\"https://colab.research.google.com/assets/colab-badge.svg\" alt=\"Open In Colab\"/></a>"
      ]
    },
    {
      "cell_type": "markdown",
      "source": [
        "# Project Name : Bike Sharing Demand Prediction"
      ],
      "metadata": {
        "id": "I9-vtvPoo7DG"
      }
    },
    {
      "cell_type": "markdown",
      "source": [
        "##### **Project Type**    - EDA\n",
        "##### **Contribution**    -Team\n",
        "##### **Team Member 1 -*Tabassum Patel (Team Leader)*\n",
        "##### **Team Member 2 -*Shubham Kodape*\n",
        "##### **Team Member 3 -*Asma Patel*\n",
        "##### **Team Member 4 -*anuja Ghotekar*\n",
        "##### **Team Member 5 -*Pratiksha Auti*  "
      ],
      "metadata": {
        "id": "beRrZCGUAJYm"
      }
    },
    {
      "cell_type": "markdown",
      "source": [
        "## Github link-https://github.com/Prati15s/EDA-Capstone-Project-Bike-Sharing-Demand-Prediction-.git"
      ],
      "metadata": {
        "id": "Rvo7778ZZOio"
      }
    },
    {
      "cell_type": "markdown",
      "metadata": {
        "id": "Y06xIdG26kRF"
      },
      "source": [
        "## <b> Problem Description </b>\n",
        "\n",
        "### Currently Rental bikes are introduced in many urban cities for the enhancement of mobility comfort. It is important to make the rental bike available and accessible to the public at the right time as it lessens the waiting time. Eventually, providing the city with a stable supply of rental bikes becomes a major concern. The crucial part is the prediction of bike count required at each hour for the stable supply of rental bikes.\n"
      ]
    },
    {
      "cell_type": "markdown",
      "metadata": {
        "id": "AlLxAtlziMbP"
      },
      "source": [
        "## <b> Data Description </b>\n",
        "\n",
        "### <b> The dataset contains weather information (Temperature, Humidity, Windspeed, Visibility, Dewpoint, Solar radiation, Snowfall, Rainfall), the number of bikes rented per hour and date information.</b>\n",
        "\n",
        "\n",
        "### <b>Attribute Information: </b>\n",
        "\n",
        "* ### Date : year-month-day\n",
        "* ### Rented Bike count - Count of bikes rented at each hour\n",
        "* ### Hour - Hour of he day\n",
        "* ### Temperature-Temperature in Celsius\n",
        "* ### Humidity - %\n",
        "* ### Windspeed - m/s\n",
        "* ### Visibility - 10m\n",
        "* ### Dew point temperature - Celsius\n",
        "* ### Solar radiation - MJ/m2\n",
        "* ### Rainfall - mm\n",
        "* ### Snowfall - cm\n",
        "* ### Seasons - Winter, Spring, Summer, Autumn\n",
        "* ### Holiday - Holiday/No holiday\n",
        "* ### Functional Day - NoFunc(Non Functional Hours), Fun(Functional hours)"
      ]
    },
    {
      "cell_type": "markdown",
      "source": [
        "# Importing a necessary libraries:\n",
        "\n",
        "\n",
        "\n",
        "\n"
      ],
      "metadata": {
        "id": "wR0Mcgbjwy1-"
      }
    },
    {
      "cell_type": "code",
      "metadata": {
        "id": "dByMsuzT8Tnw"
      },
      "source": [
        "import pandas as pd\n",
        "import numpy as np\n",
        "import matplotlib.pyplot as plt\n",
        "%matplotlib inline\n",
        "import seaborn as sns\n",
        "\n",
        "from datetime import datetime\n",
        "import datetime as dt\n",
        "\n",
        "from sklearn.preprocessing import MinMaxScaler\n",
        "from sklearn.preprocessing import OneHotEncoder\n",
        "from sklearn.preprocessing import MultiLabelBinarizer\n",
        "\n",
        "from sklearn.linear_model import LinearRegression\n",
        "from sklearn.linear_model import Lasso\n",
        "from sklearn.linear_model import Ridge\n",
        "from sklearn.linear_model import ElasticNet\n",
        "from sklearn.tree import DecisionTreeRegressor\n",
        "from sklearn.ensemble import RandomForestRegressor\n",
        "from sklearn.ensemble import GradientBoostingRegressor\n",
        "\n",
        "from sklearn.model_selection import cross_validate\n",
        "from sklearn.model_selection import train_test_split\n",
        "from sklearn.model_selection import GridSearchCV\n",
        "from sklearn.model_selection import cross_val_score\n",
        "from sklearn.model_selection import RepeatedStratifiedKFold\n",
        "from sklearn.model_selection import RandomizedSearchCV\n",
        "\n",
        "from sklearn import metrics\n",
        "from sklearn.metrics import r2_score\n",
        "from sklearn.metrics import mean_squared_error\n",
        "from sklearn.metrics import accuracy_score\n",
        "from sklearn.metrics import mean_absolute_error\n",
        "from sklearn.metrics import log_loss\n",
        "\n",
        "import warnings\n",
        "warnings.filterwarnings('ignore')\n"
      ],
      "execution_count": null,
      "outputs": []
    },
    {
      "cell_type": "markdown",
      "source": [
        "# mount the drive import the dataset "
      ],
      "metadata": {
        "id": "2JXWP6Di1mVI"
      }
    },
    {
      "cell_type": "code",
      "metadata": {
        "id": "06H5AAnCjV0q"
      },
      "source": [
        "# mount the google drive for import the dtaset\n",
        "from google.colab import drive\n",
        "drive.mount('/content/drive')"
      ],
      "execution_count": null,
      "outputs": []
    },
    {
      "cell_type": "code",
      "metadata": {
        "id": "HW1H06M3jBPj"
      },
      "source": [
        "#load the data set from drive\n",
        "bike_sharing = pd.read_csv('/content/SeoulBikeData(1)(2).csv',encoding='latin')"
      ],
      "execution_count": null,
      "outputs": []
    },
    {
      "cell_type": "markdown",
      "source": [
        "# EDA:"
      ],
      "metadata": {
        "id": "4A5DnH7HODxH"
      }
    },
    {
      "cell_type": "code",
      "source": [
        "#First 5 observations\n",
        "bike_sharing.head()"
      ],
      "metadata": {
        "id": "A7djsleGPM6U"
      },
      "execution_count": null,
      "outputs": []
    },
    {
      "cell_type": "code",
      "source": [
        "#Last 5 observations\n",
        "bike_sharing.tail()"
      ],
      "metadata": {
        "id": "N5dOQyHRQ53W"
      },
      "execution_count": null,
      "outputs": []
    },
    {
      "cell_type": "code",
      "metadata": {
        "id": "spfUiKkelMSD"
      },
      "source": [
        "#Getting the shape of dataset\n",
        "print(bike_sharing.shape)"
      ],
      "execution_count": null,
      "outputs": []
    },
    {
      "cell_type": "markdown",
      "source": [
        "We have 8,760 observations and 14 columns in our dataset."
      ],
      "metadata": {
        "id": "CtjDxaBMO5qV"
      }
    },
    {
      "cell_type": "code",
      "metadata": {
        "id": "rsuaBfwLlXrZ"
      },
      "source": [
        "#Getting all the columns of the dataframe\n",
        "bike_sharing.columns"
      ],
      "execution_count": null,
      "outputs": []
    },
    {
      "cell_type": "code",
      "source": [
        "# description of the dataframe\n",
        "bike_sharing.describe().T"
      ],
      "metadata": {
        "id": "RfNXu_B0QPPQ"
      },
      "execution_count": null,
      "outputs": []
    },
    {
      "cell_type": "markdown",
      "metadata": {
        "id": "Tpb5LHPsPehD"
      },
      "source": [
        "\n",
        " ***In a day we have 24 hours and we have 365 days a year so 365 multiplied by 24 = 8760, which represents the number of line in the dataset.*** "
      ]
    },
    {
      "cell_type": "code",
      "source": [
        "#summary of the dataframe\n",
        "bike_sharing.info()"
      ],
      "metadata": {
        "id": "YAj4ECF7QTUt"
      },
      "execution_count": null,
      "outputs": []
    },
    {
      "cell_type": "code",
      "metadata": {
        "id": "9OCJGIQnlnHE"
      },
      "source": [
        "#print the unique value\n",
        "bike_sharing.nunique()"
      ],
      "execution_count": null,
      "outputs": []
    },
    {
      "cell_type": "code",
      "source": [
        "#Creating function to return all the unique values each categorical column can have\n",
        "def cat_unique_vals(cat_cols,df):\n",
        "  for col in cat_cols:\n",
        "    print(\"The values that the categorical column\",col,\"can take are:\",df[col].unique())"
      ],
      "metadata": {
        "id": "Gql_D9N4Q1h5"
      },
      "execution_count": null,
      "outputs": []
    },
    {
      "cell_type": "code",
      "source": [
        "#Checking the possible values important and meaningful categorical columns can have.\n",
        "categorical_columns=['Seasons','Holiday']\n",
        "cat_unique_vals(categorical_columns,bike_sharing)"
      ],
      "metadata": {
        "id": "U3DCKNcDR4gq"
      },
      "execution_count": null,
      "outputs": []
    },
    {
      "cell_type": "markdown",
      "source": [
        "We'll perform further checks for the values that categorical columns can take."
      ],
      "metadata": {
        "id": "NhKLcnSNV46s"
      }
    },
    {
      "cell_type": "code",
      "source": [
        "#Creating a function that performs a groupby operation and returns a dataframe for analysis\n",
        "def create_df_analysis(col):\n",
        "  return bike_sharing.groupby(col)['Rented Bike Count'].sum().reset_index()"
      ],
      "metadata": {
        "id": "m5ELD9dsOPUn"
      },
      "execution_count": null,
      "outputs": []
    },
    {
      "cell_type": "code",
      "source": [
        "#Seasons column\n",
        "seasons_col = create_df_analysis('Seasons')\n",
        "seasons_col"
      ],
      "metadata": {
        "id": "pEixDO_wSg9E"
      },
      "execution_count": null,
      "outputs": []
    },
    {
      "cell_type": "code",
      "source": [
        "#visualisation for the seasons column\n",
        "plt.figure(figsize=(10,7))\n",
        "splot = sns.barplot(data=seasons_col,x='Seasons',y='Rented Bike Count')\n",
        "for p in splot.patches:\n",
        "    splot.annotate(format(p.get_height(), '.1f'), \n",
        "                   (p.get_x() + p.get_width() / 2., p.get_height()), \n",
        "                   ha = 'center', va = 'center', \n",
        "                   xytext = (0, 9), \n",
        "                   textcoords = 'offset points')\n",
        "plt.xlabel(\"Seasons\", size=14)\n",
        "plt.ylabel(\"Rented Bike Count\", size=14)\n",
        "plt.show()"
      ],
      "metadata": {
        "id": "91GvkK8bX-NW"
      },
      "execution_count": null,
      "outputs": []
    },
    {
      "cell_type": "markdown",
      "source": [
        "### Here we can see that the highest rented bike count in summer season\n"
      ],
      "metadata": {
        "id": "s4P4ce5c7COt"
      }
    },
    {
      "cell_type": "code",
      "source": [
        "#plotting pie chart with percentages\n",
        "seasons_list = list(seasons_col['Seasons']) \n",
        "rented_count_list = list(seasons_col['Rented Bike Count'])\n",
        "palette_color = sns.color_palette('bright')\n",
        "explode = (0.05,0.05,0.05,0.05)"
      ],
      "metadata": {
        "id": "v9twJl3dZ8_4"
      },
      "execution_count": null,
      "outputs": []
    },
    {
      "cell_type": "code",
      "source": [
        "# pie chart visualisation for seasons column\n",
        "plt.figure(figsize=(5,5))\n",
        "plt.pie(rented_count_list,labels=seasons_list,colors=palette_color,explode=explode,autopct='%0.0f%%')\n",
        "plt.title(\"Percentage of total number of bikes rented for each season\")\n",
        "plt.axis(\"equal\")  \n",
        "plt.show()"
      ],
      "metadata": {
        "id": "aqWnNPdaZ09J"
      },
      "execution_count": null,
      "outputs": []
    },
    {
      "cell_type": "markdown",
      "source": [
        "### Here we can see that in summer season percentage of total no of bikes rented is high.i.e 37% and in the winter season it very low i.e. 8%"
      ],
      "metadata": {
        "id": "gBCWP5xu8EWd"
      }
    },
    {
      "cell_type": "code",
      "source": [
        "#Holidays column\n",
        "holidays_col = create_df_analysis('Holiday')\n",
        "holidays_col"
      ],
      "metadata": {
        "id": "frpfuL_pWKwB"
      },
      "execution_count": null,
      "outputs": []
    },
    {
      "cell_type": "code",
      "source": [
        "#visualisation for the holidays dataframe\n",
        "plt.figure(figsize=(7,7))\n",
        "splot = sns.barplot(data=holidays_col,x='Holiday',y='Rented Bike Count')\n",
        "for p in splot.patches:\n",
        "    splot.annotate(format(p.get_height(), '.1f'), \n",
        "                   (p.get_x() + p.get_width() / 2., p.get_height()), \n",
        "                   ha = 'center', va = 'center', \n",
        "                   xytext = (0, 10), \n",
        "                   textcoords = 'offset points')\n",
        "plt.xlabel(\"Holiday variable\",size=16)\n",
        "plt.ylabel(\"Rented Bike Count\", size=16)\n",
        "plt.show()"
      ],
      "metadata": {
        "id": "eF0bNqQoaLh4"
      },
      "execution_count": null,
      "outputs": []
    },
    {
      "cell_type": "markdown",
      "source": [
        "<b>As we can see that the majority of the bikes rented are on days which are considered as No Holiday.</b>"
      ],
      "metadata": {
        "id": "UpYbfHUZavev"
      }
    },
    {
      "cell_type": "markdown",
      "source": [
        "## <b>Analysing for different temperatures.</b>"
      ],
      "metadata": {
        "id": "YG6fHHtffKj1"
      }
    },
    {
      "cell_type": "code",
      "source": [
        "#visualisation to analyse the number of bikes rented for different temperatures\n",
        "temp_bike_sharing = create_df_analysis('Temperature(°C)')\n",
        "temp_bike_sharing"
      ],
      "metadata": {
        "id": "sE4Mwk-xdMoi"
      },
      "execution_count": null,
      "outputs": []
    },
    {
      "cell_type": "code",
      "source": [
        "# visualisation for different temperatures\n",
        "plt.figure(figsize=(8,5))\n",
        "sns.histplot(data=temp_bike_sharing,x='Temperature(°C)',y='Rented Bike Count',bins=100)\n",
        "plt.title('Number of bikes rented for different temperatures',size=12)\n",
        "plt.show()"
      ],
      "metadata": {
        "id": "D-HMBU_Hf2zv"
      },
      "execution_count": null,
      "outputs": []
    },
    {
      "cell_type": "markdown",
      "source": [
        "<b> the most number of bikes rented are in the temperature range of 15 degrees to 30 degrees.</b>"
      ],
      "metadata": {
        "id": "GQIPRSs2SkF7"
      }
    },
    {
      "cell_type": "markdown",
      "source": [
        "## <b>Evaluation for different intensities of snowfall</b>"
      ],
      "metadata": {
        "id": "4ur5AUXybpgw"
      }
    },
    {
      "cell_type": "code",
      "source": [
        "# a dataframe to evaluate the number of bikes rented for different intensities of snowfall\n",
        "snowfall_bike_sharing = create_df_analysis('Snowfall (cm)')\n",
        "snowfall_bike_sharing.head()"
      ],
      "metadata": {
        "id": "UQ1VF3LeeRQ-"
      },
      "execution_count": null,
      "outputs": []
    },
    {
      "cell_type": "code",
      "source": [
        "# visualisation for different snowfall intensities\n",
        "plt.scatter(data=snowfall_bike_sharing,x='Snowfall (cm)',y='Rented Bike Count')\n",
        "plt.title('Number of bikes rented across different snowfall intensities',size=15)\n",
        "plt.xlabel('Snowfall in cm')\n",
        "plt.ylabel('Rented Bike Count')\n",
        "plt.show()"
      ],
      "metadata": {
        "id": "uMw5UuVgUlWt"
      },
      "execution_count": null,
      "outputs": []
    },
    {
      "cell_type": "markdown",
      "source": [
        "<b>Here we can see that most of the bikes are rented when there is no snowfall at all.  \n",
        "\n",
        "Note: In this case the y axis is the order 10 to the power 6, therefore the lower values are not too distinctive.</b>"
      ],
      "metadata": {
        "id": "iEBpmiMz6oPw"
      }
    },
    {
      "cell_type": "markdown",
      "source": [
        "## <b>Analysing for different intensities of rainfall</b>"
      ],
      "metadata": {
        "id": "3BgUjDbvb1OG"
      }
    },
    {
      "cell_type": "code",
      "source": [
        "#Creating a dataframe to analyse the number of bikes rented for different intensities of rainfall\n",
        "rainfall_bike_sharing = create_df_analysis('Rainfall(mm)')\n",
        "rainfall_bike_sharing.head()"
      ],
      "metadata": {
        "id": "QuDAgSvCXnd7"
      },
      "execution_count": null,
      "outputs": []
    },
    {
      "cell_type": "code",
      "source": [
        "# visualisation for different rainfall intensities\n",
        "plt.scatter(data=rainfall_bike_sharing,x='Rainfall(mm)',y='Rented Bike Count')\n",
        "plt.title('Number of bikes rented across different rainfall intensities',size=15)\n",
        "plt.xlabel('Rainfall in mm')\n",
        "plt.ylabel('Rented Bike Count')\n",
        "plt.show()"
      ],
      "metadata": {
        "id": "wvhNGvuUalZz"
      },
      "execution_count": null,
      "outputs": []
    },
    {
      "cell_type": "markdown",
      "source": [
        "<b>Here we can see that most of the bikes are rented when there is no Rainfall at all.  \n",
        "\n",
        "Note: In this case the y axis is the order 10 to the power 6, therefore the lower values are not too distinctive.</b>"
      ],
      "metadata": {
        "id": "CTn6RqUjW3GP"
      }
    },
    {
      "cell_type": "markdown",
      "source": [
        "## **Evaluating for different humidity percentages</b>**"
      ],
      "metadata": {
        "id": "TiSSC04ud1qO"
      }
    },
    {
      "cell_type": "code",
      "source": [
        "#dataframe for evaluating the number of bikes rented for different humidity percentages. \n",
        "humidity_bike_sharing = create_df_analysis('Humidity(%)')\n",
        "humidity_bike_sharing"
      ],
      "metadata": {
        "id": "LHNQ7V-Xaxy0"
      },
      "execution_count": null,
      "outputs": []
    },
    {
      "cell_type": "code",
      "source": [
        "# visualisation for the different humidity percentages\n",
        "plt.plot(humidity_bike_sharing['Humidity(%)'],humidity_bike_sharing['Rented Bike Count'])\n",
        "plt.xlabel('Humidity(%)')\n",
        "plt.ylabel(\"Rented Bike Count\")\n",
        "plt.title(\"Number of bikes rented across different humidity percentages\")\n",
        "plt.show()"
      ],
      "metadata": {
        "id": "QQv7Bpc6dJLj"
      },
      "execution_count": null,
      "outputs": []
    },
    {
      "cell_type": "markdown",
      "source": [
        "<b>here we can see that the most of the bikes are rented for a humidity percentage range in 30 to 70.</b>"
      ],
      "metadata": {
        "id": "PWwgyFmYd_Q9"
      }
    },
    {
      "cell_type": "code",
      "source": [
        "#dataframe to evaluatee the number of bikes rented for different hours of the day\n",
        "hour_bike_sharing = create_df_analysis(\"Hour\")\n",
        "hour_bike_sharing"
      ],
      "metadata": {
        "id": "CBdU9N4Fff1E"
      },
      "execution_count": null,
      "outputs": []
    },
    {
      "cell_type": "code",
      "source": [
        "#visualisation for different hours of the day\n",
        "plt.figure(figsize=(5,5))\n",
        "sns.barplot(data=hour_bike_sharing,x='Hour',y='Rented Bike Count')\n",
        "plt.title('Number of bikes rented across different hours of the day',size=16)\n",
        "plt.xlabel('Hour',size=10)\n",
        "plt.ylabel('Rented Bike Count',size=10)\n",
        "plt.show()"
      ],
      "metadata": {
        "id": "MeSRwLEmgHCL"
      },
      "execution_count": null,
      "outputs": []
    },
    {
      "cell_type": "markdown",
      "source": [
        "<b>Here we can see that the highest number of bike rentals have been done in the 18th hour, i.e 6pm, and lowest in the 4th hour, i.e 4am.</b>"
      ],
      "metadata": {
        "id": "7cBGD_7ykXs8"
      }
    },
    {
      "cell_type": "code",
      "source": [
        "#Creating a dataframe to analyse the number of bikes rented for different visibility rates\n",
        "visibility_bike_sharing = create_df_analysis('Visibility (10m)')\n",
        "visibility_bike_sharing"
      ],
      "metadata": {
        "id": "chzAWz-MP7FM"
      },
      "execution_count": null,
      "outputs": []
    },
    {
      "cell_type": "code",
      "source": [
        "#visualisation for number of bikes rented in different visibility ranges\n",
        "plt.plot(visibility_bike_sharing['Visibility (10m)'],visibility_bike_sharing['Rented Bike Count'])\n",
        "plt.xlabel('Visibility(10m)')\n",
        "plt.ylabel('Rented Bike Count')\n",
        "plt.title('Number of bikes rented for different visibility')\n",
        "plt.show()"
      ],
      "metadata": {
        "id": "LUBfDCdMQkX3"
      },
      "execution_count": null,
      "outputs": []
    },
    {
      "cell_type": "markdown",
      "source": [
        "We can see that higher visibility is preffered by the customers. Through further analysis of the **visibility_bike_sharing** dataframe we can see that for increasing visibility there is an increase in bikes rented. "
      ],
      "metadata": {
        "id": "xZEQJsiQRnJy"
      }
    },
    {
      "cell_type": "markdown",
      "source": [
        "# <b> Clean Up:</b>"
      ],
      "metadata": {
        "id": "-xNh9B8RTjil"
      }
    },
    {
      "cell_type": "markdown",
      "source": [
        "### <b>Handling null values:</b>\n",
        "\n",
        "Missing data is defined as the values or data that is not stored (or not present) for some variable/s in the given dataset.\n",
        "\n",
        "Missing values can bias the results of the machine learning models and/or reduce the accuracy of the model. \n",
        "\n",
        "Therefore it is an essential practice to handle null values before training our model. There are two main ways of handling null values, one is to delete the observations containing null values and the other is to impute the null values with some meaning full values."
      ],
      "metadata": {
        "id": "B_qSOd-nUFPT"
      }
    },
    {
      "cell_type": "code",
      "source": [
        "#Checking for null values\n",
        "bike_sharing.isnull().sum()"
      ],
      "metadata": {
        "id": "x0DtzsgKgQaD"
      },
      "execution_count": null,
      "outputs": []
    },
    {
      "cell_type": "markdown",
      "source": [
        "<b>As we can see there are no null values present in our dataset and therefore we are good to go.</b> "
      ],
      "metadata": {
        "id": "xuvnrph5UOA0"
      }
    },
    {
      "cell_type": "markdown",
      "source": [
        "###<b>Handling duplicate values:</b>\n",
        "\n",
        "When two features have the same set of values they are known as duplicate values.\n",
        "\n",
        "Duplicate values can cause detrimental effect on our accuracy. Duplicate values can ruin the split between train,test and validation set, which ultimately leads to a biased performance estimates that disappoint the model in production.\n",
        "\n",
        "The best way of dealing with duplicate values is to delete them."
      ],
      "metadata": {
        "id": "R1DBL284VhNe"
      }
    },
    {
      "cell_type": "code",
      "source": [
        "#Checking for duplicate values\n",
        "bike_sharing.duplicated().sum()"
      ],
      "metadata": {
        "id": "-vTGI_XMUMtX"
      },
      "execution_count": null,
      "outputs": []
    },
    {
      "cell_type": "markdown",
      "source": [
        "###<b>Removing outliers:</b>\n",
        "\n",
        "Outliers are those data points that are significantly different from the rest of the data points in the dataset. These can cause the data to skew and affect the accuracy of the ML model. "
      ],
      "metadata": {
        "id": "qx_3MDtIZ0n6"
      }
    },
    {
      "cell_type": "code",
      "source": [
        "#Creating a list of columns that can possibly contain outliers\n",
        "possible_outlier_cols = list(set(bike_sharing.describe().columns)-{'Rented Bike Count','Hour'})\n",
        "possible_outlier_cols"
      ],
      "metadata": {
        "id": "MJoH3PWfppQT"
      },
      "execution_count": null,
      "outputs": []
    },
    {
      "cell_type": "code",
      "source": [
        "#Creating a boxplot to detect columns with outliers\n",
        "plt.figure(figsize=(15,13))\n",
        "for index,item in enumerate(possible_outlier_cols):\n",
        "  plt.subplot(3,6,index+1)\n",
        "  sns.boxplot(bike_sharing[item])"
      ],
      "metadata": {
        "id": "lmvka3KCn6lA"
      },
      "execution_count": null,
      "outputs": []
    },
    {
      "cell_type": "markdown",
      "source": [
        "<b>Here we can see that the columns that contain outliers are Rainfall, Snowfall, Windspeed and Solar Radiation</b>"
      ],
      "metadata": {
        "id": "v0XzPDlYo_K3"
      }
    },
    {
      "cell_type": "code",
      "source": [
        "#Creating a list of columns that contains outliers\n",
        "outlier_cols = ['Rainfall(mm)','Wind speed (m/s)','Snowfall (cm)','Solar Radiation (MJ/m2)']\n",
        "outlier_cols"
      ],
      "metadata": {
        "id": "IJXBDgh8ffUj"
      },
      "execution_count": null,
      "outputs": []
    },
    {
      "cell_type": "code",
      "source": [
        "#to find the inter-quartile range for the columns with outliers\n",
        "Q1 = bike_sharing[outlier_cols].quantile(0.25)\n",
        "Q3 = bike_sharing[outlier_cols].quantile(0.75)\n",
        "IQR = Q3-Q1\n",
        "IQR"
      ],
      "metadata": {
        "id": "ZafxXJ0tWsD_"
      },
      "execution_count": null,
      "outputs": []
    },
    {
      "cell_type": "code",
      "source": [
        "#to calculate the upper and lower fence for outlier removal\n",
        "up_fence = Q3 + (1.5*IQR)\n",
        "lo_fence = Q1 - (1.5*IQR)"
      ],
      "metadata": {
        "id": "gmREMFYzcDzH"
      },
      "execution_count": null,
      "outputs": []
    },
    {
      "cell_type": "code",
      "source": [
        "#Detecting and removing the outliers\n",
        "bike_sharing[outlier_cols] = bike_sharing[outlier_cols][~((bike_sharing[outlier_cols] < lo_fence) | (bike_sharing[outlier_cols] > up_fence))]"
      ],
      "metadata": {
        "id": "TI3X9ArWiutv"
      },
      "execution_count": null,
      "outputs": []
    },
    {
      "cell_type": "code",
      "source": [
        "#Checking the number of outliers deleted\n",
        "bike_sharing.info()"
      ],
      "metadata": {
        "id": "EaFNRn2CnhRl"
      },
      "execution_count": null,
      "outputs": []
    },
    {
      "cell_type": "markdown",
      "source": [
        "<b>Due to outlier deletion, some null values have been created in these 4 columns.Now, we can either delete the observations with null values or impute them with some meaning full values. In this case I will be imputing them with the median value of each column.\n",
        "\n",
        "Note: Usually mean is chosen to impute null values, but I'll be choosing the median because mean is affected very much by outliers whereas the median is not.</b>"
      ],
      "metadata": {
        "id": "et7DbCK1qzwZ"
      }
    },
    {
      "cell_type": "code",
      "source": [
        "#Creating a function to impute the null values created by outlier handling.\n",
        "def impute_null(outlier_cols):\n",
        "  for col in outlier_cols:\n",
        "    bike_sharing[col].fillna(bike_sharing[col].median(),inplace=True)"
      ],
      "metadata": {
        "id": "1Wy-06GKnlVU"
      },
      "execution_count": null,
      "outputs": []
    },
    {
      "cell_type": "code",
      "source": [
        "#Calling the imputing function\n",
        "impute_null(outlier_cols)"
      ],
      "metadata": {
        "id": "b72Zw5X9rzGn"
      },
      "execution_count": null,
      "outputs": []
    },
    {
      "cell_type": "code",
      "source": [
        "#Checking if the imputation is successful\n",
        "bike_sharing.info()"
      ],
      "metadata": {
        "id": "zEXODKvUt4Sq"
      },
      "execution_count": null,
      "outputs": []
    },
    {
      "cell_type": "markdown",
      "source": [
        "<b>The imputation is successful and therefore we have handled the outliers successfully</b>"
      ],
      "metadata": {
        "id": "zqvX7NXOuHaU"
      }
    },
    {
      "cell_type": "markdown",
      "source": [
        "##<b>Conclusion:</b>\n",
        "1. EDA insights:\n",
        "  * Most number of bikes are rented in the Summer season and the lowest in the winter season.\n",
        "  * Over 96% of the bikes are rented on days that are considered as No Holiday.\n",
        "  * Most number of bikes are rented in the temperature range of 15 degrees to 30 degrees.\n",
        "  * Most number of bikes are rented when there is no snowfall or rainfall.\n",
        "  * Majority of the bikes are rented for a humidity percentage range of 30 to 70.\n",
        "  * The highest number of bike rentals have been done in the 18th hour, i.e 6pm, and lowest in the 4th hour, i.e 4am.\n",
        "  * Most of the bike rentals have been made when there is high visibility."
      ],
      "metadata": {
        "id": "PgKzo-6yl37_"
      }
    }
  ]
}